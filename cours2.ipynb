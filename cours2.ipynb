{
  "nbformat": 4,
  "nbformat_minor": 0,
  "metadata": {
    "colab": {
      "name": "cours2.ipynb",
      "provenance": [],
      "collapsed_sections": [],
      "authorship_tag": "ABX9TyNeWnaCjIEnjYmakKXZ1X3h",
      "include_colab_link": true
    },
    "kernelspec": {
      "name": "python3",
      "display_name": "Python 3"
    },
    "language_info": {
      "name": "python"
    }
  },
  "cells": [
    {
      "cell_type": "markdown",
      "metadata": {
        "id": "view-in-github",
        "colab_type": "text"
      },
      "source": [
        "<a href=\"https://colab.research.google.com/github/Tianarandr/deeplearning-base/blob/main/cours2.ipynb\" target=\"_parent\"><img src=\"https://colab.research.google.com/assets/colab-badge.svg\" alt=\"Open In Colab\"/></a>"
      ]
    },
    {
      "cell_type": "code",
      "metadata": {
        "id": "-XX5y7EHyjw7"
      },
      "source": [
        "import time\n",
        "from keras.utils import np_utils\n",
        "from keras.models import Sequential\n",
        "\n",
        "#from keras.optimizers import SGBD\n",
        "from tensorflow.keras.optimizers import SGD\n",
        "from keras.layers import Input, Dense, Activation\n",
        "\n",
        "from keras.layers import Input, Dense, Flatten, Dropout, Concatenate, Conv1D, Activation\n",
        "#from keras.layers.normalization import BatchNormalization\n",
        "\n",
        "import numpy as np\n",
        "\n",
        "\n",
        "\n",
        "from sklearn.datasets import load_breast_cancer\n",
        "from sklearn import preprocessing"
      ],
      "execution_count": 1,
      "outputs": []
    },
    {
      "cell_type": "code",
      "metadata": {
        "id": "rmWftdiHzCoW"
      },
      "source": [
        "data = load_breast_cancer()"
      ],
      "execution_count": 2,
      "outputs": []
    },
    {
      "cell_type": "code",
      "metadata": {
        "colab": {
          "base_uri": "https://localhost:8080/"
        },
        "id": "zet5LdtfzWmc",
        "outputId": "47b3c7a2-2ed1-42d4-a2e9-4d0bd279a3c9"
      },
      "source": [
        "X = data.data\n",
        "np.shape(X)"
      ],
      "execution_count": 3,
      "outputs": [
        {
          "output_type": "execute_result",
          "data": {
            "text/plain": [
              "(569, 30)"
            ]
          },
          "metadata": {},
          "execution_count": 3
        }
      ]
    },
    {
      "cell_type": "code",
      "metadata": {
        "colab": {
          "base_uri": "https://localhost:8080/"
        },
        "id": "8xAy2y45zbuL",
        "outputId": "75d7f508-e555-449d-d718-0af6a75ef9a1"
      },
      "source": [
        "y = data.target\n",
        "np.shape(y)"
      ],
      "execution_count": 4,
      "outputs": [
        {
          "output_type": "execute_result",
          "data": {
            "text/plain": [
              "(569,)"
            ]
          },
          "metadata": {},
          "execution_count": 4
        }
      ]
    },
    {
      "cell_type": "code",
      "metadata": {
        "id": "XT4inDH00RId"
      },
      "source": [
        "def normalized(X):\n",
        "  return (X- np.mean(X, axis=0))/(np.max(X, axis=0) - np.min(X, axis=0))\n",
        "\n",
        "#scaler = StandardScaler()\n",
        "#X_scaled = scaler.fit_transform(X)\n",
        "#X_scaled"
      ],
      "execution_count": 5,
      "outputs": []
    },
    {
      "cell_type": "code",
      "metadata": {
        "colab": {
          "base_uri": "https://localhost:8080/"
        },
        "id": "L8yA-FpK0mUT",
        "outputId": "f7621065-9dac-4176-ce65-805850bc3909"
      },
      "source": [
        "print(X)\n",
        "x_norm = normalized(X)\n",
        "print(\"after normalization\")\n",
        "print(x_norm)"
      ],
      "execution_count": 6,
      "outputs": [
        {
          "output_type": "stream",
          "name": "stdout",
          "text": [
            "[[1.799e+01 1.038e+01 1.228e+02 ... 2.654e-01 4.601e-01 1.189e-01]\n",
            " [2.057e+01 1.777e+01 1.329e+02 ... 1.860e-01 2.750e-01 8.902e-02]\n",
            " [1.969e+01 2.125e+01 1.300e+02 ... 2.430e-01 3.613e-01 8.758e-02]\n",
            " ...\n",
            " [1.660e+01 2.808e+01 1.083e+02 ... 1.418e-01 2.218e-01 7.820e-02]\n",
            " [2.060e+01 2.933e+01 1.401e+02 ... 2.650e-01 4.087e-01 1.240e-01]\n",
            " [7.760e+00 2.454e+01 4.792e+01 ... 0.000e+00 2.871e-01 7.039e-02]]\n",
            "after normalization\n",
            "[[ 0.18281548 -0.30130702  0.21305346 ...  0.51819167  0.33515559\n",
            "   0.22926789]\n",
            " [ 0.30492254 -0.05139156  0.28284822 ...  0.24533944 -0.02971727\n",
            "   0.03328206]\n",
            " [ 0.26327362  0.06629528  0.26280814 ...  0.44121573  0.14039903\n",
            "   0.02383696]\n",
            " ...\n",
            " [ 0.11702912  0.29727262  0.11285306 ...  0.0934494  -0.13458618\n",
            "  -0.03768738]\n",
            " [ 0.30634239  0.3395452   0.33260291 ...  0.5168171   0.23383487\n",
            "   0.26271929]\n",
            " [-0.3013532   0.1775567  -0.30439523 ... -0.39383582 -0.00586551\n",
            "  -0.08891393]]\n"
          ]
        }
      ]
    },
    {
      "cell_type": "code",
      "metadata": {
        "id": "KzRKbG651gY1"
      },
      "source": [
        "from sklearn.model_selection import train_test_split\n",
        "X_train, X_test, y_train, y_test = train_test_split(x_norm,y , test_size=0.3, train_size=0.7, random_state=True)\n",
        "X_validation, x_test, y_validation, y_test = train_test_split(X_test, y_test, test_size=0.5, train_size=0.5, random_state=True )"
      ],
      "execution_count": 7,
      "outputs": []
    },
    {
      "cell_type": "code",
      "metadata": {
        "colab": {
          "base_uri": "https://localhost:8080/"
        },
        "id": "VjjQ5C37TZW9",
        "outputId": "7d576254-da08-476e-d320-5c8b952d9e47"
      },
      "source": [
        "np.shape(X_validation), np.shape(X_test)"
      ],
      "execution_count": 8,
      "outputs": [
        {
          "output_type": "execute_result",
          "data": {
            "text/plain": [
              "((85, 30), (171, 30))"
            ]
          },
          "metadata": {},
          "execution_count": 8
        }
      ]
    },
    {
      "cell_type": "code",
      "metadata": {
        "id": "LYC_CCw4City"
      },
      "source": [
        ""
      ],
      "execution_count": 8,
      "outputs": []
    },
    {
      "cell_type": "code",
      "metadata": {
        "colab": {
          "base_uri": "https://localhost:8080/"
        },
        "id": "3c89gftK2Yr7",
        "outputId": "cdfa2bc6-55d2-4265-eb74-659e9508d908"
      },
      "source": [
        "np.shape(X_train), np.shape(y_train)"
      ],
      "execution_count": 9,
      "outputs": [
        {
          "output_type": "execute_result",
          "data": {
            "text/plain": [
              "((398, 30), (398,))"
            ]
          },
          "metadata": {},
          "execution_count": 9
        }
      ]
    },
    {
      "cell_type": "markdown",
      "metadata": {
        "id": "jvTquhRz3mG_"
      },
      "source": [
        ""
      ]
    },
    {
      "cell_type": "code",
      "metadata": {
        "colab": {
          "base_uri": "https://localhost:8080/"
        },
        "id": "bM5oFhBx3mhu",
        "outputId": "16075b6e-84e8-4a7e-f7ab-1a2799bed43f"
      },
      "source": [
        "from keras.callbacks import ModelCheckpoint, LearningRateScheduler, EarlyStopping\n",
        "from tensorflow.keras.optimizers import SGD\n",
        "\n",
        "learning_rate =0.8\n",
        "batch_size = 50\n",
        "nb_epoch =50\n",
        "\n",
        "#hyperparametre deep_learning, tableau (colone, ligne (accuracy, loss))\n",
        "model = Sequential()\n",
        "model.add(Dense(128, input_dim=30))\n",
        "model.add(Activation('sigmoid'))\n",
        "model.add(Dropout(0.3))\n",
        "\n",
        "model.add(Dense(512))\n",
        "model.add(Activation('sigmoid'))\n",
        "model.add(Dropout(0.3))\n",
        "\n",
        "\n",
        "\n",
        "model.add(Dense(1))\n",
        "model.add(Activation('softmax'))\n",
        "\n",
        "sgd = SGD(learning_rate)\n",
        "model.compile(loss='binary_crossentropy', optimizer=sgd, metrics=['accuracy'])\n",
        "model.fit(X_train, y_train, batch_size=batch_size, epochs=nb_epoch, verbose=1)"
      ],
      "execution_count": 14,
      "outputs": [
        {
          "output_type": "stream",
          "name": "stdout",
          "text": [
            "Epoch 1/50\n",
            "8/8 [==============================] - 0s 6ms/step - loss: 6.0269 - accuracy: 0.6256\n",
            "Epoch 2/50\n",
            "8/8 [==============================] - 0s 4ms/step - loss: 1.4023 - accuracy: 0.6256\n",
            "Epoch 3/50\n",
            "8/8 [==============================] - 0s 4ms/step - loss: 0.9407 - accuracy: 0.6256\n",
            "Epoch 4/50\n",
            "8/8 [==============================] - 0s 5ms/step - loss: 0.7884 - accuracy: 0.6256\n",
            "Epoch 5/50\n",
            "8/8 [==============================] - 0s 4ms/step - loss: 0.6495 - accuracy: 0.6256\n",
            "Epoch 6/50\n",
            "8/8 [==============================] - 0s 4ms/step - loss: 0.6612 - accuracy: 0.6256\n",
            "Epoch 7/50\n",
            "8/8 [==============================] - 0s 5ms/step - loss: 0.6601 - accuracy: 0.6256\n",
            "Epoch 8/50\n",
            "8/8 [==============================] - 0s 5ms/step - loss: 0.6468 - accuracy: 0.6256\n",
            "Epoch 9/50\n",
            "8/8 [==============================] - 0s 6ms/step - loss: 0.6479 - accuracy: 0.6256\n",
            "Epoch 10/50\n",
            "8/8 [==============================] - 0s 4ms/step - loss: 0.6475 - accuracy: 0.6256\n",
            "Epoch 11/50\n",
            "8/8 [==============================] - 0s 5ms/step - loss: 0.6675 - accuracy: 0.6256\n",
            "Epoch 12/50\n",
            "8/8 [==============================] - 0s 4ms/step - loss: 0.6562 - accuracy: 0.6256\n",
            "Epoch 13/50\n",
            "8/8 [==============================] - 0s 4ms/step - loss: 0.6175 - accuracy: 0.6256\n",
            "Epoch 14/50\n",
            "8/8 [==============================] - 0s 4ms/step - loss: 0.6342 - accuracy: 0.6256\n",
            "Epoch 15/50\n",
            "8/8 [==============================] - 0s 4ms/step - loss: 0.6017 - accuracy: 0.6256\n",
            "Epoch 16/50\n",
            "8/8 [==============================] - 0s 5ms/step - loss: 0.6122 - accuracy: 0.6256\n",
            "Epoch 17/50\n",
            "8/8 [==============================] - 0s 4ms/step - loss: 0.6030 - accuracy: 0.6256\n",
            "Epoch 18/50\n",
            "8/8 [==============================] - 0s 4ms/step - loss: 0.5432 - accuracy: 0.6256\n",
            "Epoch 19/50\n",
            "8/8 [==============================] - 0s 4ms/step - loss: 0.5087 - accuracy: 0.6256\n",
            "Epoch 20/50\n",
            "8/8 [==============================] - 0s 4ms/step - loss: 0.4580 - accuracy: 0.6256\n",
            "Epoch 21/50\n",
            "8/8 [==============================] - 0s 4ms/step - loss: 0.4401 - accuracy: 0.6256\n",
            "Epoch 22/50\n",
            "8/8 [==============================] - 0s 4ms/step - loss: 0.4182 - accuracy: 0.6256\n",
            "Epoch 23/50\n",
            "8/8 [==============================] - 0s 4ms/step - loss: 0.4445 - accuracy: 0.6256\n",
            "Epoch 24/50\n",
            "8/8 [==============================] - 0s 5ms/step - loss: 0.3699 - accuracy: 0.6256\n",
            "Epoch 25/50\n",
            "8/8 [==============================] - 0s 4ms/step - loss: 0.3981 - accuracy: 0.6256\n",
            "Epoch 26/50\n",
            "8/8 [==============================] - 0s 4ms/step - loss: 0.3253 - accuracy: 0.6256\n",
            "Epoch 27/50\n",
            "8/8 [==============================] - 0s 5ms/step - loss: 0.3287 - accuracy: 0.6256\n",
            "Epoch 28/50\n",
            "8/8 [==============================] - 0s 4ms/step - loss: 0.3240 - accuracy: 0.6256\n",
            "Epoch 29/50\n",
            "8/8 [==============================] - 0s 5ms/step - loss: 0.3192 - accuracy: 0.6256\n",
            "Epoch 30/50\n",
            "8/8 [==============================] - 0s 4ms/step - loss: 0.2443 - accuracy: 0.6256\n",
            "Epoch 31/50\n",
            "8/8 [==============================] - 0s 5ms/step - loss: 0.2564 - accuracy: 0.6256\n",
            "Epoch 32/50\n",
            "8/8 [==============================] - 0s 4ms/step - loss: 0.2288 - accuracy: 0.6256\n",
            "Epoch 33/50\n",
            "8/8 [==============================] - 0s 5ms/step - loss: 0.2684 - accuracy: 0.6256\n",
            "Epoch 34/50\n",
            "8/8 [==============================] - 0s 5ms/step - loss: 0.2058 - accuracy: 0.6256\n",
            "Epoch 35/50\n",
            "8/8 [==============================] - 0s 4ms/step - loss: 0.1991 - accuracy: 0.6256\n",
            "Epoch 36/50\n",
            "8/8 [==============================] - 0s 4ms/step - loss: 0.2358 - accuracy: 0.6256\n",
            "Epoch 37/50\n",
            "8/8 [==============================] - 0s 5ms/step - loss: 0.2229 - accuracy: 0.6256\n",
            "Epoch 38/50\n",
            "8/8 [==============================] - 0s 4ms/step - loss: 0.2117 - accuracy: 0.6256\n",
            "Epoch 39/50\n",
            "8/8 [==============================] - 0s 4ms/step - loss: 0.1838 - accuracy: 0.6256\n",
            "Epoch 40/50\n",
            "8/8 [==============================] - 0s 4ms/step - loss: 0.1880 - accuracy: 0.6256\n",
            "Epoch 41/50\n",
            "8/8 [==============================] - 0s 4ms/step - loss: 0.1630 - accuracy: 0.6256\n",
            "Epoch 42/50\n",
            "8/8 [==============================] - 0s 4ms/step - loss: 0.1672 - accuracy: 0.6256\n",
            "Epoch 43/50\n",
            "8/8 [==============================] - 0s 4ms/step - loss: 0.1912 - accuracy: 0.6256\n",
            "Epoch 44/50\n",
            "8/8 [==============================] - 0s 4ms/step - loss: 0.1685 - accuracy: 0.6256\n",
            "Epoch 45/50\n",
            "8/8 [==============================] - 0s 4ms/step - loss: 0.1704 - accuracy: 0.6256\n",
            "Epoch 46/50\n",
            "8/8 [==============================] - 0s 4ms/step - loss: 0.2172 - accuracy: 0.6256\n",
            "Epoch 47/50\n",
            "8/8 [==============================] - 0s 5ms/step - loss: 0.1708 - accuracy: 0.6256\n",
            "Epoch 48/50\n",
            "8/8 [==============================] - 0s 4ms/step - loss: 0.1958 - accuracy: 0.6256\n",
            "Epoch 49/50\n",
            "8/8 [==============================] - 0s 4ms/step - loss: 0.1696 - accuracy: 0.6256\n",
            "Epoch 50/50\n",
            "8/8 [==============================] - 0s 5ms/step - loss: 0.1631 - accuracy: 0.6256\n"
          ]
        },
        {
          "output_type": "execute_result",
          "data": {
            "text/plain": [
              "<keras.callbacks.History at 0x7fd82d29ee50>"
            ]
          },
          "metadata": {},
          "execution_count": 14
        }
      ]
    },
    {
      "cell_type": "markdown",
      "metadata": {
        "id": "sMkZJaaOVJC7"
      },
      "source": [
        "CHECKPOINTER, EARLY"
      ]
    },
    {
      "cell_type": "code",
      "metadata": {
        "colab": {
          "base_uri": "https://localhost:8080/"
        },
        "id": "JtoarL4Z9vnL",
        "outputId": "d0cf7281-f4a3-4016-bef3-05dde67000c5"
      },
      "source": [
        "from keras.layers import Dense, Activation\n",
        "from tensorflow.keras.optimizers import SGD\n",
        "from tensorflow.keras.callbacks import ModelCheckpoint, EarlyStopping\n",
        "#from keras.layers.normalization import BatchNormalization\n",
        "\n",
        "# import BatchNormalization\n",
        "from tensorflow.keras.layers import BatchNormalization\n",
        "\n",
        "\n",
        "\n",
        "learning_rate =0.8\n",
        "batch_size = 50\n",
        "nb_epoch =50\n",
        "\n",
        "#hyperparametre deep_learning, tableau (colone, ligne (accuracy, loss))\n",
        "#ammelioer cet modele\n",
        "model = Sequential()\n",
        "model.add(Dense(128, input_dim=30))\n",
        "model.add(Activation('sigmoid'))\n",
        "model.add(Dropout(0.3))\n",
        "\n",
        "model.add(Dense(512))\n",
        "model.add(Activation('sigmoid'))\n",
        "model.add(Dropout(0.3))\n",
        "model.add(BatchNormalization())\n",
        "\n",
        "\n",
        "model.add(Dense(1))\n",
        "model.add(Activation('softmax'))\n",
        "\n",
        "#sauvgarder le bon model\n",
        "checkpointer = ModelCheckpoint(filepath='NN_TP1.hdf5', monitor='val_loss', verbose=0, save_best_only=True, \n",
        "                               save_weiths_only=False, mode='min', period=1)\n",
        "\n",
        "#stoper des qu'il y a une divergence\n",
        "early = EarlyStopping(monitor='val_loss', min_delta=0, patience=5, verbose=0, mode='auto')\n",
        "\n",
        "\n",
        "sgd = SGD(learning_rate)\n",
        "\n",
        "model.compile(loss='binary_crossentropy', optimizer=sgd, metrics=['accuracy'])\n",
        "model.fit(X_train, y_train, batch_size=batch_size, callbacks=[checkpointer, early], verbose=1)"
      ],
      "execution_count": 15,
      "outputs": [
        {
          "output_type": "stream",
          "name": "stdout",
          "text": [
            "WARNING:tensorflow:`period` argument is deprecated. Please use `save_freq` to specify the frequency in number of batches seen.\n",
            "1/8 [==>...........................] - ETA: 5s - loss: 0.7817 - accuracy: 0.6200WARNING:tensorflow:Can save best model only with val_loss available, skipping.\n",
            "WARNING:tensorflow:Early stopping conditioned on metric `val_loss` which is not available. Available metrics are: loss,accuracy\n",
            "8/8 [==============================] - 1s 5ms/step - loss: 0.9986 - accuracy: 0.6256\n"
          ]
        },
        {
          "output_type": "execute_result",
          "data": {
            "text/plain": [
              "<keras.callbacks.History at 0x7fd82d110d50>"
            ]
          },
          "metadata": {},
          "execution_count": 15
        }
      ]
    },
    {
      "cell_type": "markdown",
      "metadata": {
        "id": "rJX9mqK-U2FY"
      },
      "source": [
        "**AVEC VALIDATION** X_VALIDATION"
      ]
    },
    {
      "cell_type": "code",
      "metadata": {
        "id": "XyXiKJMKUzRZ",
        "colab": {
          "base_uri": "https://localhost:8080/"
        },
        "outputId": "c038bc0a-c504-4ccc-da04-6cf7b07c3bcc"
      },
      "source": [
        "from keras.layers import Dense, Activation\n",
        "from tensorflow.keras.optimizers import SGD\n",
        "from tensorflow.keras.callbacks import ModelCheckpoint, EarlyStopping\n",
        "#from keras.layers.normalization import BatchNormalization\n",
        "\n",
        "# import BatchNormalization\n",
        "from tensorflow.keras.layers import BatchNormalization\n",
        "\n",
        "\n",
        "\n",
        "learning_rate =0.8\n",
        "batch_size = 50\n",
        "nb_epoch =50\n",
        "\n",
        "#hyperparametre deep_learning, tableau (colone, ligne (accuracy, loss))\n",
        "#ammelioer cet modele\n",
        "model = Sequential()\n",
        "model.add(Dense(128, input_dim=30))\n",
        "model.add(Activation('sigmoid'))\n",
        "model.add(Dropout(0.3))\n",
        "\n",
        "model.add(Dense(512))\n",
        "model.add(Activation('sigmoid'))\n",
        "model.add(Dropout(0.3))\n",
        "model.add(BatchNormalization())\n",
        "\n",
        "\n",
        "model.add(Dense(1))\n",
        "model.add(Activation('softmax'))\n",
        "\n",
        "#sauvgarder le bon model\n",
        "checkpointer = ModelCheckpoint(filepath='NN_TP1.hdf5', monitor='val_loss', verbose=0, save_best_only=True, \n",
        "                               save_weiths_only=False, mode='min', period=1)\n",
        "\n",
        "#stoper dès qu'il y a une divergence\n",
        "early = EarlyStopping(monitor='val_loss', min_delta=0, patience=5, verbose=0, mode='auto')\n",
        "\n",
        "\n",
        "sgd = SGD(learning_rate)\n",
        "\n",
        "model.compile(loss='binary_crossentropy', optimizer=sgd, metrics=['accuracy'])\n",
        "model.fit(X_train, y_train, batch_size=batch_size, \n",
        "          validation_data=(X_validation, y_validation), callbacks=[checkpointer, early] , verbose=1)"
      ],
      "execution_count": 12,
      "outputs": [
        {
          "output_type": "stream",
          "name": "stdout",
          "text": [
            "WARNING:tensorflow:`period` argument is deprecated. Please use `save_freq` to specify the frequency in number of batches seen.\n",
            "8/8 [==============================] - 1s 35ms/step - loss: 1.1122 - accuracy: 0.6256 - val_loss: 0.7922 - val_accuracy: 0.6118\n"
          ]
        },
        {
          "output_type": "execute_result",
          "data": {
            "text/plain": [
              "<keras.callbacks.History at 0x7fd82d6b3e90>"
            ]
          },
          "metadata": {},
          "execution_count": 12
        }
      ]
    }
  ]
}